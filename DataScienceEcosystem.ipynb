{
 "cells": [
  {
   "cell_type": "markdown",
   "id": "896454b1-e2ac-4838-8b8e-68c206a34a51",
   "metadata": {},
   "source": [
    "# DataScience Tools and Ecosystem"
   ]
  },
  {
   "cell_type": "markdown",
   "id": "1df47ff2-53a8-424a-bcf8-192b0492ca5f",
   "metadata": {},
   "source": [
    "# In this notebook, DataScience Tools and Ecosystem are summaraized."
   ]
  },
  {
   "cell_type": "markdown",
   "id": "bc312e15-22c2-46e6-998e-a659d2c22c3b",
   "metadata": {},
   "source": [
    "# Objectives\n",
    "* Lists popular languages used by DataScientists\n",
    "* List commonly used Libraries by DataScientists\n",
    "* List DataScience Tools\n",
    "* List arithmetic expressions used in Python\n",
    "* code for evaluate some arithmetic expression using python\n",
    "* Code for convert minutes to hours using python"
   ]
  },
  {
   "cell_type": "markdown",
   "id": "33de2182-b942-46c8-8e63-e3bff22a3484",
   "metadata": {},
   "source": [
    "# Some of the Popular Languages that DataScientists use are:\n",
    "* Python\n",
    "* R\n",
    "* Java\n",
    "* Scala\n",
    "* Julia\n",
    "* C++\n",
    "* SQL\n",
    "* Ruby"
   ]
  },
  {
   "cell_type": "markdown",
   "id": "fb57da86-8e12-430b-9a12-99fd28184913",
   "metadata": {},
   "source": [
    "# Some of the commonly used Libraries by DataScientists include:\n",
    "* Matplotlib\n",
    "* Pandas\n",
    "* Numpy\n",
    "* Scipy\n",
    "* Scikit-learn\n",
    "* Seaborn\n",
    "* Pytorch\n",
    "* Tensorflow\n",
    "* Keras\n",
    "* OpenCV\n",
    "  "
   ]
  },
  {
   "cell_type": "markdown",
   "id": "db8cfb25-c704-4c23-84c3-8ccb307ff2c8",
   "metadata": {},
   "source": [
    "|DataScience Tools|\n",
    "|-----------------|\n",
    "|Jupyter Notebook|\n",
    "|RStudio|\n",
    "|Spyder|"
   ]
  },
  {
   "cell_type": "markdown",
   "id": "2a217b3c-b50b-4fbc-aa3e-a307ca640157",
   "metadata": {},
   "source": [
    "# Below are a few examples of evaluating arithmetic expressions in Python"
   ]
  },
  {
   "cell_type": "code",
   "execution_count": 11,
   "id": "0adf54ed-930b-4a10-9c09-6e792f4eca90",
   "metadata": {},
   "outputs": [
    {
     "name": "stdout",
     "output_type": "stream",
     "text": [
      "7\n"
     ]
    }
   ],
   "source": [
    "a=3+4\n",
    "print(a)"
   ]
  },
  {
   "cell_type": "code",
   "execution_count": 12,
   "id": "8e7b15d2-dc8f-4352-93a5-bcd8530bdc54",
   "metadata": {},
   "outputs": [
    {
     "name": "stdout",
     "output_type": "stream",
     "text": [
      "-2\n"
     ]
    }
   ],
   "source": [
    "b=3-5\n",
    "print(b)"
   ]
  },
  {
   "cell_type": "code",
   "execution_count": 13,
   "id": "f6a6e958-df86-4e1d-bf09-52ae3844f919",
   "metadata": {},
   "outputs": [
    {
     "name": "stdout",
     "output_type": "stream",
     "text": [
      "2.0\n"
     ]
    }
   ],
   "source": [
    "c=4/2\n",
    "print(c)"
   ]
  },
  {
   "cell_type": "code",
   "execution_count": 14,
   "id": "034bf4ce-d316-402c-95ac-69dcca2a49c4",
   "metadata": {},
   "outputs": [
    {
     "name": "stdout",
     "output_type": "stream",
     "text": [
      "4.5\n"
     ]
    }
   ],
   "source": [
    "d=a+b/4-c\n",
    "print(d)"
   ]
  },
  {
   "cell_type": "code",
   "execution_count": 16,
   "id": "517350a4-5f31-4d0d-8b01-85328b39fbeb",
   "metadata": {},
   "outputs": [],
   "source": [
    "# This a simple arithmetic expression to multiply then add integers"
   ]
  },
  {
   "cell_type": "code",
   "execution_count": 17,
   "id": "4f8e3ddf-18ff-4770-a723-bca658e90b14",
   "metadata": {},
   "outputs": [
    {
     "data": {
      "text/plain": [
       "17"
      ]
     },
     "execution_count": 17,
     "metadata": {},
     "output_type": "execute_result"
    }
   ],
   "source": [
    "(3*4)+5"
   ]
  },
  {
   "cell_type": "code",
   "execution_count": 18,
   "id": "96e85052-8187-40c4-b09e-5ef466b8a704",
   "metadata": {},
   "outputs": [],
   "source": [
    "#This will convert 200 minutes to hours by diving by 60."
   ]
  },
  {
   "cell_type": "code",
   "execution_count": 20,
   "id": "79f75999-2bc1-445a-ad54-f4bb832dae3d",
   "metadata": {},
   "outputs": [
    {
     "name": "stdout",
     "output_type": "stream",
     "text": [
      "3.3333333333333335\n"
     ]
    }
   ],
   "source": [
    "def min_into_hours(minutes):\n",
    "    return minutes/60\n",
    "a=min_into_hours(200)\n",
    "print(a)"
   ]
  },
  {
   "cell_type": "markdown",
   "id": "48534403-8ff8-4820-8012-79859c2def25",
   "metadata": {},
   "source": [
    "# Author\n",
    "Keerthana Krishnan"
   ]
  },
  {
   "cell_type": "code",
   "execution_count": null,
   "id": "7cccf358-992f-4cf7-9ee8-7aa629686b43",
   "metadata": {},
   "outputs": [],
   "source": []
  },
  {
   "cell_type": "code",
   "execution_count": null,
   "id": "c4339e0a-062a-46b9-ba8a-4d6f75826ea2",
   "metadata": {},
   "outputs": [],
   "source": []
  }
 ],
 "metadata": {
  "kernelspec": {
   "display_name": "Python 3 (ipykernel)",
   "language": "python",
   "name": "python3"
  },
  "language_info": {
   "codemirror_mode": {
    "name": "ipython",
    "version": 3
   },
   "file_extension": ".py",
   "mimetype": "text/x-python",
   "name": "python",
   "nbconvert_exporter": "python",
   "pygments_lexer": "ipython3",
   "version": "3.9.6"
  }
 },
 "nbformat": 4,
 "nbformat_minor": 5
}
